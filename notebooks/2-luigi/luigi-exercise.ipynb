{
 "cells": [
  {
   "cell_type": "markdown",
   "metadata": {},
   "source": [
    "# Luigi Classification Pipeline"
   ]
  },
  {
   "cell_type": "markdown",
   "metadata": {},
   "source": [
    "We will build a small Luigi pipeline in order to get started. The task is to classify images into either *lemons* or *bananas*.\n",
    "\n",
    "Write 3 task:\n",
    "\n",
    "1. Check for daily data\n",
    "1. Preprocess images (convert to grayscale, resize to (100, 100))\n",
    "1. Classify image and write the results into a JSON-File"
   ]
  },
  {
   "cell_type": "markdown",
   "metadata": {},
   "source": [
    "## Hints and Tricks for openCV\n",
    "\n",
    "Read an image from disk:\n",
    "```python\n",
    "img = cv2.imread(\"path\", cv2.IMREAD_COLOR)\n",
    "```\n",
    "\n",
    "Resize an image:\n",
    "```python\n",
    "img = cv2.resize(img, (X_SIZE,Y_SIZE))\n",
    "```\n",
    "\n",
    "Convert image to grayscale:\n",
    "```python\n",
    "img = cv2.cvtColor(img, cv2.COLOR_BGR2GRAY)\n",
    "```\n",
    "\n",
    "Write an image to disk:\n",
    "```python\n",
    "cv2.imwrite(\"path\", img)\n",
    "```\n",
    "\n",
    "Find circles to identify lemons:\n",
    "```python\n",
    "circles = cv2.HoughCircles(img, \n",
    "                           cv2.HOUGH_GRADIENT,\n",
    "                           dp=2, \n",
    "                           minDist=15, \n",
    "                           param1=100, \n",
    "                           param2=70)\n",
    "```"
   ]
  },
  {
   "cell_type": "markdown",
   "metadata": {},
   "source": [
    "## Imports"
   ]
  },
  {
   "cell_type": "code",
   "execution_count": null,
   "metadata": {},
   "outputs": [],
   "source": [
    "import json\n",
    "from datetime import date\n",
    "import luigi\n",
    "from luigi.parameter import DateParameter\n",
    "from luigi import LocalTarget, Task, WrapperTask\n",
    "from luigi.tools.range import RangeDailyBase\n",
    "import cv2"
   ]
  },
  {
   "cell_type": "markdown",
   "metadata": {},
   "source": [
    "## Task 1: Check for daily data"
   ]
  },
  {
   "cell_type": "code",
   "execution_count": null,
   "metadata": {},
   "outputs": [],
   "source": [
    "class CheckDailyData(Task):\n",
    "    date = DateParameter(default=date.today())\n",
    "\n",
    "    def output(self):\n",
    "        pass"
   ]
  },
  {
   "cell_type": "markdown",
   "metadata": {},
   "source": [
    "## Task 2: Preprocess input image"
   ]
  },
  {
   "cell_type": "code",
   "execution_count": null,
   "metadata": {},
   "outputs": [],
   "source": [
    "class Preprocess(Task):\n",
    "\n",
    "    def requires(self):\n",
    "        pass\n",
    "\n",
    "    def output(self):\n",
    "        pass\n",
    "\n",
    "    def run(self):\n",
    "        pass"
   ]
  },
  {
   "cell_type": "markdown",
   "metadata": {},
   "source": [
    "## Classify image"
   ]
  },
  {
   "cell_type": "code",
   "execution_count": null,
   "metadata": {},
   "outputs": [],
   "source": [
    "class Classify(Task):\n",
    "    pass"
   ]
  },
  {
   "cell_type": "markdown",
   "metadata": {},
   "source": [
    "## Run the pipeline"
   ]
  },
  {
   "cell_type": "code",
   "execution_count": null,
   "metadata": {},
   "outputs": [],
   "source": [
    "luigi.build([Classify(date(2018,2,19))], local_scheduler=True, no_lock=True)"
   ]
  },
  {
   "cell_type": "markdown",
   "metadata": {},
   "source": [
    "## Daily jobs and backfillings "
   ]
  },
  {
   "cell_type": "markdown",
   "metadata": {},
   "source": [
    "Now we can classify a single image that is identified by it's savedate. But Luigi comes even more handy when handling \"backfillings\". Using the *RangeDailyBase* Wrappertask we can process all 3 images with the pipeline we already built.\n",
    "\n",
    "```python\n",
    "RangeDailyBase(of=TASK, start=START_DATE, stop=END_DATE, days_back=ALLOWED_DAYS_INTO_PAST)\n",
    "```"
   ]
  },
  {
   "cell_type": "code",
   "execution_count": null,
   "metadata": {},
   "outputs": [],
   "source": [
    "luigi.build([], local_scheduler=True, no_lock=True)"
   ]
  }
 ],
 "metadata": {
  "kernelspec": {
   "display_name": "Python 3",
   "language": "python",
   "name": "python3"
  },
  "language_info": {
   "codemirror_mode": {
    "name": "ipython",
    "version": 3
   },
   "file_extension": ".py",
   "mimetype": "text/x-python",
   "name": "python",
   "nbconvert_exporter": "python",
   "pygments_lexer": "ipython3",
   "version": "3.6.8"
  }
 },
 "nbformat": 4,
 "nbformat_minor": 2
}
