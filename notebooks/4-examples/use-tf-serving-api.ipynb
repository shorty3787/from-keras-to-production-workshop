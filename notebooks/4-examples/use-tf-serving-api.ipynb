{
 "cells": [
  {
   "cell_type": "code",
   "execution_count": 1,
   "metadata": {},
   "outputs": [],
   "source": [
    "import grpc\n",
    "import cv2\n",
    "import numpy as np\n",
    "from tensorflow_serving.apis import prediction_service_pb2_grpc\n",
    "from tensorflow_serving.apis import get_model_metadata_pb2\n",
    "from tensorflow_serving.apis import predict_pb2\n",
    "from tensorflow.contrib.util import make_tensor_proto"
   ]
  },
  {
   "cell_type": "code",
   "execution_count": 4,
   "metadata": {},
   "outputs": [
    {
     "data": {
      "text/plain": [
       "\u001b[0;31mType:\u001b[0m           PredictionServiceStub\n",
       "\u001b[0;31mString form:\u001b[0m    <tensorflow_serving.apis.prediction_service_pb2_grpc.PredictionServiceStub object at 0x7fce5dc91438>\n",
       "\u001b[0;31mFile:\u001b[0m           /usr/local/lib/python3.6/site-packages/tensorflow_serving/apis/prediction_service_pb2_grpc.py\n",
       "\u001b[0;31mDocstring:\u001b[0m     \n",
       "open source marker; do not remove\n",
       "PredictionService provides access to machine-learned models loaded by\n",
       "model_servers.\n",
       "\u001b[0;31mInit docstring:\u001b[0m\n",
       "Constructor.\n",
       "\n",
       "Args:\n",
       "  channel: A grpc.Channel.\n"
      ]
     },
     "metadata": {},
     "output_type": "display_data"
    }
   ],
   "source": [
    "\"\"\"\n",
    "Die Verbindungsdaten zum TensorFlow-Serving ModelServer\n",
    "\"\"\"\n",
    "host = \"localhost\"\n",
    "port = \"9000\"\n",
    "channel = grpc.insecure_channel(\"localhost:8500\")\n",
    "stub = prediction_service_pb2_grpc.PredictionServiceStub(channel)\n",
    "stub?"
   ]
  },
  {
   "cell_type": "code",
   "execution_count": 5,
   "metadata": {},
   "outputs": [
    {
     "ename": "_Rendezvous",
     "evalue": "<_Rendezvous of RPC that terminated with:\n\tstatus = StatusCode.UNAVAILABLE\n\tdetails = \"Connect Failed\"\n\tdebug_error_string = \"{\"created\":\"@1550843109.225264570\",\"description\":\"Failed to create subchannel\",\"file\":\"src/core/ext/filters/client_channel/client_channel.cc\",\"file_line\":2261,\"referenced_errors\":[{\"created\":\"@1550843109.224943578\",\"description\":\"Pick Cancelled\",\"file\":\"src/core/ext/filters/client_channel/lb_policy/pick_first/pick_first.cc\",\"file_line\":245,\"referenced_errors\":[{\"created\":\"@1550843109.224933460\",\"description\":\"Connect Failed\",\"file\":\"src/core/ext/filters/client_channel/subchannel.cc\",\"file_line\":867,\"grpc_status\":14,\"referenced_errors\":[{\"created\":\"@1550843109.224931812\",\"description\":\"OS Error\",\"errno\":97,\"file\":\"src/core/lib/iomgr/socket_utils_common_posix.cc\",\"file_line\":379,\"os_error\":\"Address family not supported by protocol\",\"syscall\":\"socket\",\"target_address\":\"[::1]:8500\"}]}]}]}\"\n>",
     "output_type": "error",
     "traceback": [
      "\u001b[0;31m---------------------------------------------------------------------------\u001b[0m",
      "\u001b[0;31m_Rendezvous\u001b[0m                               Traceback (most recent call last)",
      "\u001b[0;32m<ipython-input-5-3204131f3b2c>\u001b[0m in \u001b[0;36m<module>\u001b[0;34m\u001b[0m\n\u001b[1;32m      3\u001b[0m \u001b[0mstatus\u001b[0m\u001b[0;34m.\u001b[0m\u001b[0mmodel_spec\u001b[0m\u001b[0;34m.\u001b[0m\u001b[0mversion\u001b[0m\u001b[0;34m.\u001b[0m\u001b[0mvalue\u001b[0m \u001b[0;34m=\u001b[0m \u001b[0;36m1\u001b[0m\u001b[0;34m\u001b[0m\u001b[0;34m\u001b[0m\u001b[0m\n\u001b[1;32m      4\u001b[0m \u001b[0mstatus\u001b[0m\u001b[0;34m.\u001b[0m\u001b[0mmetadata_field\u001b[0m\u001b[0;34m.\u001b[0m\u001b[0mappend\u001b[0m\u001b[0;34m(\u001b[0m\u001b[0;34m\"signature_def\"\u001b[0m\u001b[0;34m)\u001b[0m\u001b[0;34m\u001b[0m\u001b[0;34m\u001b[0m\u001b[0m\n\u001b[0;32m----> 5\u001b[0;31m \u001b[0mresponse\u001b[0m \u001b[0;34m=\u001b[0m \u001b[0mstub\u001b[0m\u001b[0;34m.\u001b[0m\u001b[0mGetModelMetadata\u001b[0m\u001b[0;34m(\u001b[0m\u001b[0mstatus\u001b[0m\u001b[0;34m,\u001b[0m \u001b[0;36m10\u001b[0m\u001b[0;34m)\u001b[0m\u001b[0;34m\u001b[0m\u001b[0;34m\u001b[0m\u001b[0m\n\u001b[0m\u001b[1;32m      6\u001b[0m \u001b[0mget_ipython\u001b[0m\u001b[0;34m(\u001b[0m\u001b[0;34m)\u001b[0m\u001b[0;34m.\u001b[0m\u001b[0mrun_line_magic\u001b[0m\u001b[0;34m(\u001b[0m\u001b[0;34m'pinfo'\u001b[0m\u001b[0;34m,\u001b[0m \u001b[0;34m'response'\u001b[0m\u001b[0;34m)\u001b[0m\u001b[0;34m\u001b[0m\u001b[0;34m\u001b[0m\u001b[0m\n",
      "\u001b[0;32m/usr/local/lib/python3.6/site-packages/grpc/_channel.py\u001b[0m in \u001b[0;36m__call__\u001b[0;34m(self, request, timeout, metadata, credentials, wait_for_ready)\u001b[0m\n\u001b[1;32m    548\u001b[0m         state, call, = self._blocking(request, timeout, metadata, credentials,\n\u001b[1;32m    549\u001b[0m                                       wait_for_ready)\n\u001b[0;32m--> 550\u001b[0;31m         \u001b[0;32mreturn\u001b[0m \u001b[0m_end_unary_response_blocking\u001b[0m\u001b[0;34m(\u001b[0m\u001b[0mstate\u001b[0m\u001b[0;34m,\u001b[0m \u001b[0mcall\u001b[0m\u001b[0;34m,\u001b[0m \u001b[0;32mFalse\u001b[0m\u001b[0;34m,\u001b[0m \u001b[0;32mNone\u001b[0m\u001b[0;34m)\u001b[0m\u001b[0;34m\u001b[0m\u001b[0;34m\u001b[0m\u001b[0m\n\u001b[0m\u001b[1;32m    551\u001b[0m \u001b[0;34m\u001b[0m\u001b[0m\n\u001b[1;32m    552\u001b[0m     def with_call(self,\n",
      "\u001b[0;32m/usr/local/lib/python3.6/site-packages/grpc/_channel.py\u001b[0m in \u001b[0;36m_end_unary_response_blocking\u001b[0;34m(state, call, with_call, deadline)\u001b[0m\n\u001b[1;32m    465\u001b[0m             \u001b[0;32mreturn\u001b[0m \u001b[0mstate\u001b[0m\u001b[0;34m.\u001b[0m\u001b[0mresponse\u001b[0m\u001b[0;34m\u001b[0m\u001b[0;34m\u001b[0m\u001b[0m\n\u001b[1;32m    466\u001b[0m     \u001b[0;32melse\u001b[0m\u001b[0;34m:\u001b[0m\u001b[0;34m\u001b[0m\u001b[0;34m\u001b[0m\u001b[0m\n\u001b[0;32m--> 467\u001b[0;31m         \u001b[0;32mraise\u001b[0m \u001b[0m_Rendezvous\u001b[0m\u001b[0;34m(\u001b[0m\u001b[0mstate\u001b[0m\u001b[0;34m,\u001b[0m \u001b[0;32mNone\u001b[0m\u001b[0;34m,\u001b[0m \u001b[0;32mNone\u001b[0m\u001b[0;34m,\u001b[0m \u001b[0mdeadline\u001b[0m\u001b[0;34m)\u001b[0m\u001b[0;34m\u001b[0m\u001b[0;34m\u001b[0m\u001b[0m\n\u001b[0m\u001b[1;32m    468\u001b[0m \u001b[0;34m\u001b[0m\u001b[0m\n\u001b[1;32m    469\u001b[0m \u001b[0;34m\u001b[0m\u001b[0m\n",
      "\u001b[0;31m_Rendezvous\u001b[0m: <_Rendezvous of RPC that terminated with:\n\tstatus = StatusCode.UNAVAILABLE\n\tdetails = \"Connect Failed\"\n\tdebug_error_string = \"{\"created\":\"@1550843109.225264570\",\"description\":\"Failed to create subchannel\",\"file\":\"src/core/ext/filters/client_channel/client_channel.cc\",\"file_line\":2261,\"referenced_errors\":[{\"created\":\"@1550843109.224943578\",\"description\":\"Pick Cancelled\",\"file\":\"src/core/ext/filters/client_channel/lb_policy/pick_first/pick_first.cc\",\"file_line\":245,\"referenced_errors\":[{\"created\":\"@1550843109.224933460\",\"description\":\"Connect Failed\",\"file\":\"src/core/ext/filters/client_channel/subchannel.cc\",\"file_line\":867,\"grpc_status\":14,\"referenced_errors\":[{\"created\":\"@1550843109.224931812\",\"description\":\"OS Error\",\"errno\":97,\"file\":\"src/core/lib/iomgr/socket_utils_common_posix.cc\",\"file_line\":379,\"os_error\":\"Address family not supported by protocol\",\"syscall\":\"socket\",\"target_address\":\"[::1]:8500\"}]}]}]}\"\n>"
     ]
    }
   ],
   "source": [
    "status = get_model_metadata_pb2.GetModelMetadataRequest()\n",
    "status.model_spec.name = 'fruits'\n",
    "status.model_spec.version.value = 1\n",
    "status.metadata_field.append(\"signature_def\")\n",
    "response = stub.GetModelMetadata(status, 10)\n",
    "response?"
   ]
  },
  {
   "cell_type": "code",
   "execution_count": 4,
   "metadata": {},
   "outputs": [
    {
     "data": {
      "text/plain": [
       "\u001b[0;31mType:\u001b[0m            PredictResponse\n",
       "\u001b[0;31mString form:\u001b[0m    \n",
       "outputs {\n",
       "           key: \"prediction\"\n",
       "           value {\n",
       "           dtype: DT_FLOAT\n",
       "           tensor_shape {\n",
       "           dim {\n",
       "           <...> model_spec {\n",
       "           name: \"fruits\"\n",
       "           version {\n",
       "           value: 1\n",
       "           }\n",
       "           signature_name: \"serving_default\"\n",
       "           }\n",
       "           \n",
       "\u001b[0;31mFile:\u001b[0m            /usr/local/lib/python3.6/site-packages/tensorflow_serving/apis/predict_pb2.py\n",
       "\u001b[0;31mDocstring:\u001b[0m       <no docstring>\n",
       "\u001b[0;31mClass docstring:\u001b[0m A ProtocolMessage\n"
      ]
     },
     "metadata": {},
     "output_type": "display_data"
    }
   ],
   "source": [
    "request = predict_pb2.PredictRequest()\n",
    "request.model_spec.name = 'fruits'\n",
    "request.model_spec.version.value = 1\n",
    "img = cv2.imread(\"../1-deeplearning/test_images/Banana/Banana_wiki.jpg\").astype(np.float32)\n",
    "img = cv2.resize(img, (20, 20))\n",
    "img = img / 255\n",
    "x, y, c = img.shape\n",
    "proto = make_tensor_proto(img, shape=[1, x, y, c])\n",
    "request.inputs['input'].CopyFrom(proto)\n",
    "result = stub.Predict(request)  # 10 secs timeout\n",
    "result?"
   ]
  },
  {
   "cell_type": "code",
   "execution_count": 6,
   "metadata": {},
   "outputs": [
    {
     "name": "stdout",
     "output_type": "stream",
     "text": [
      "0.9750781655311584\n"
     ]
    }
   ],
   "source": [
    "prediction = result.outputs['prediction'].float_val\n",
    "max_value = max(prediction)\n",
    "max_index = list(prediction).index(max_value)\n",
    "print(max_value)"
   ]
  }
 ],
 "metadata": {
  "kernelspec": {
   "display_name": "Python 3",
   "language": "python",
   "name": "python3"
  },
  "language_info": {
   "codemirror_mode": {
    "name": "ipython",
    "version": 3
   },
   "file_extension": ".py",
   "mimetype": "text/x-python",
   "name": "python",
   "nbconvert_exporter": "python",
   "pygments_lexer": "ipython3",
   "version": "3.6.8"
  }
 },
 "nbformat": 4,
 "nbformat_minor": 2
}
