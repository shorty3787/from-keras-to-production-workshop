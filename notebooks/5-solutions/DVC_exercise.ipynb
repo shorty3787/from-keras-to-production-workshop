{
 "cells": [
  {
   "cell_type": "markdown",
   "metadata": {},
   "source": [
    "# Lightweight pipelines with DVC"
   ]
  },
  {
   "cell_type": "markdown",
   "metadata": {},
   "source": [
    "We will build a small pipeline with DVC in order to get started. The task is to classify images into either *lemons* or *bananas*.\n",
    "\n",
    "The pipelines consists of 2 python functions:\n",
    "\n",
    "1. preprocess(inputpath, outputpath), that processes images (convert to grayscale, resize to (100, 100))\n",
    "1. classify(inputpath, outputpath), that classifies images and write the results into a JSON-File\n",
    "\n",
    "Write the 2 functions and wrap a pipeline around them using DVC.\n",
    "\n",
    "The best approach is to create a python file and implement the functions. Googles \"fire\" is an easy approach to invoke preprocess and classify.\n",
    "\n",
    "Install fire:\n",
    "!pip install fire\n",
    "\n",
    "Use fire:\n",
    "\n",
    "```python\n",
    "import fire\n",
    "\n",
    "...\n",
    "...\n",
    "...\n",
    "\n",
    "if __name__ == '__main__':\n",
    "  fire.Fire()\n",
    "```\n",
    "\n",
    "Invoke function with fire:\n",
    "\n",
    "```bash\n",
    "python <your file>.py preprocess exercise-dataset-dvc/image.jpg output/preprocessed.jpg\n",
    "```\n",
    "\n",
    "You can use the \"%%sh\" shell-magic to run shell commands in a cell. "
   ]
  },
  {
   "cell_type": "markdown",
   "metadata": {},
   "source": [
    "## Testing the functions"
   ]
  },
  {
   "cell_type": "code",
   "execution_count": 2,
   "metadata": {},
   "outputs": [],
   "source": [
    "%%sh \n",
    "python DVC_exercise.py preprocess exercise-dataset-dvc/image.jpg output-exercise/test-processed.jpg"
   ]
  },
  {
   "cell_type": "code",
   "execution_count": 3,
   "metadata": {},
   "outputs": [],
   "source": [
    "%%sh \n",
    "python DVC_exercise.py classify output-exercise/test-processed.jpg output-exercise/test-result.json"
   ]
  },
  {
   "cell_type": "markdown",
   "metadata": {},
   "source": [
    "## Initialize DVC"
   ]
  },
  {
   "cell_type": "code",
   "execution_count": 4,
   "metadata": {},
   "outputs": [
    {
     "name": "stdout",
     "output_type": "stream",
     "text": [
      "\u001b[31m+---------------------------------------------------------------------+\n",
      "\u001b[39m\u001b[31m|\u001b[39m                                                                     \u001b[31m|\u001b[39m\n",
      "\u001b[31m|\u001b[39m        DVC has enabled anonymous aggregate usage analytics.         \u001b[31m|\u001b[39m\n",
      "\u001b[31m|\u001b[39m     Read the analytics documentation (and how to opt-out) here:     \u001b[31m|\u001b[39m\n",
      "\u001b[31m|\u001b[39m              \u001b[34mhttps://dvc.org/doc/user-guide/analytics\u001b[39m               \u001b[31m|\u001b[39m\n",
      "\u001b[31m|\u001b[39m                                                                     \u001b[31m|\u001b[39m\n",
      "\u001b[31m+---------------------------------------------------------------------+\n",
      "\u001b[39m\n",
      "\u001b[33mWhat's next?\u001b[39m\n",
      "\u001b[33m------------\u001b[39m\n",
      "- Check out the documentation: \u001b[34mhttps://dvc.org/doc\u001b[39m\n",
      "- Get help and share ideas: \u001b[34mhttps://dvc.org/chat\u001b[39m\n",
      "- Star us on GitHub: \u001b[34mhttps://github.com/iterative/dvc\u001b[39m\n",
      "\u001b[0m"
     ]
    }
   ],
   "source": [
    "!dvc init -f --no-scm"
   ]
  },
  {
   "cell_type": "markdown",
   "metadata": {},
   "source": [
    "## Invoke the functions"
   ]
  },
  {
   "cell_type": "code",
   "execution_count": 16,
   "metadata": {},
   "outputs": [
    {
     "name": "stdout",
     "output_type": "stream",
     "text": [
      "Running command:\n",
      "\tpython DVC_exercise.py preprocess exercise-dataset-dvc/image.jpg output-exercise/processed.jpg 50 50\n",
      "Saving 'output-exercise/processed.jpg' to cache '.dvc/cache'.\n",
      "Saving information to 'processed.jpg.dvc'.\n",
      "\n",
      "To track the changes with git run:\n",
      "\n",
      "\tgit add processed.jpg.dvc\n"
     ]
    }
   ],
   "source": [
    "%%sh \n",
    "dvc run -d DVC_exercise.py \\\n",
    "        -d exercise-dataset-dvc/image.jpg \\\n",
    "        -o output-exercise/processed.jpg \\\n",
    "        python DVC_exercise.py preprocess exercise-dataset-dvc/image.jpg output-exercise/processed.jpg 50 50 "
   ]
  },
  {
   "cell_type": "code",
   "execution_count": 6,
   "metadata": {},
   "outputs": [
    {
     "name": "stdout",
     "output_type": "stream",
     "text": [
      "Running command:\n",
      "\tpython DVC_exercise.py classify output-exercise/test-processed.jpg output-exercise/result.json\n",
      "Saving 'output-exercise/result.json' to cache '.dvc/cache'.\n",
      "Saving information to 'result.json.dvc'.\n",
      "\n",
      "To track the changes with git run:\n",
      "\n",
      "\tgit add result.json.dvc\n"
     ]
    }
   ],
   "source": [
    "%%sh \n",
    "dvc run -d DVC_exercise.py \\\n",
    "        -d output-exercise/processed.jpg \\\n",
    "        -o output-exercise/result.json \\\n",
    "        python DVC_exercise.py classify output-exercise/test-processed.jpg output-exercise/result.json"
   ]
  },
  {
   "cell_type": "markdown",
   "metadata": {},
   "source": [
    "## Look at the pipeline"
   ]
  },
  {
   "cell_type": "code",
   "execution_count": 8,
   "metadata": {},
   "outputs": [
    {
     "name": "stdout",
     "output_type": "stream",
     "text": [
      "+-------------------+  \n",
      "| processed.jpg.dvc |  \n",
      "+-------------------+  \n",
      "          *            \n",
      "          *            \n",
      "          *            \n",
      " +-----------------+   \n",
      " | result.json.dvc |   \n",
      " +-----------------+   \n"
     ]
    }
   ],
   "source": [
    "%%sh\n",
    "dvc pipeline show result.json.dvc --ascii"
   ]
  },
  {
   "cell_type": "code",
   "execution_count": 12,
   "metadata": {},
   "outputs": [
    {
     "name": "stdout",
     "output_type": "stream",
     "text": [
      "\u001b[33mWarning\u001b[39m: Output 'output-exercise/processed.jpg' of 'processed.jpg.dvc' changed.\n",
      "\u001b[33mStage 'processed.jpg.dvc' changed.\u001b[39m\n",
      "Reproducing 'processed.jpg.dvc'\n",
      "Running command:\n",
      "\tpython DVC_exercise.py preprocess exercise-dataset-dvc/image.jpg output-exercise/processed.jpg\n",
      "Checking out '{'scheme': 'local', 'path': '/keras2production/notebooks/5-solutions/output-exercise/processed.jpg'}' with cache '9be73f582255331b84c3de936f6cc8f8'.\n",
      "Output 'output-exercise/processed.jpg' didn't change. Skipping saving.\n",
      "Saving 'output-exercise/processed.jpg' to cache '.dvc/cache'.\n",
      "Saving information to 'processed.jpg.dvc'.\n",
      "\u001b[33mWarning\u001b[39m: Output 'output-exercise/result.json' of 'result.json.dvc' changed.\n",
      "\u001b[33mStage 'result.json.dvc' changed.\u001b[39m\n",
      "Reproducing 'result.json.dvc'\n",
      "Running command:\n",
      "\tpython DVC_exercise.py classify output-exercise/test-processed.jpg output-exercise/result.json\n",
      "Checking out '{'scheme': 'local', 'path': '/keras2production/notebooks/5-solutions/output-exercise/result.json'}' with cache 'c7d4ca78a77357d89789d675ea96d969'.\n",
      "Output 'output-exercise/result.json' didn't change. Skipping saving.\n",
      "Saving 'output-exercise/result.json' to cache '.dvc/cache'.\n",
      "Saving information to 'result.json.dvc'.\n",
      "\n",
      "To track the changes with git run:\n",
      "\n",
      "\tgit add processed.jpg.dvc result.json.dvc\n"
     ]
    }
   ],
   "source": [
    "%%sh\n",
    "dvc repro result.json.dvc"
   ]
  }
 ],
 "metadata": {
  "kernelspec": {
   "display_name": "Python 3",
   "language": "python",
   "name": "python3"
  },
  "language_info": {
   "codemirror_mode": {
    "name": "ipython",
    "version": 3
   },
   "file_extension": ".py",
   "mimetype": "text/x-python",
   "name": "python",
   "nbconvert_exporter": "python",
   "pygments_lexer": "ipython3",
   "version": "3.6.8"
  }
 },
 "nbformat": 4,
 "nbformat_minor": 2
}
