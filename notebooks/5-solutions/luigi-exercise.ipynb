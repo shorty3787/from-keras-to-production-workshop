{
 "cells": [
  {
   "cell_type": "markdown",
   "metadata": {},
   "source": [
    "# Luigi Classification Pipeline"
   ]
  },
  {
   "cell_type": "markdown",
   "metadata": {},
   "source": [
    "We will build a small Luigi pipeline in order to get started. The task is to classify images into either *lemons* or *bananas*.\n",
    "\n",
    "Write 3 task:\n",
    "\n",
    "1. Check for daily data\n",
    "1. Preprocess images (convert to grayscale, resize to (100, 100)\n",
    "1. Classify image and write the results into a JSON-File"
   ]
  },
  {
   "cell_type": "markdown",
   "metadata": {},
   "source": [
    "## Hints and Tricks for openCV\n",
    "\n",
    "Read an image from disk:\n",
    "```python\n",
    "img = cv2.imread(\"path\", cv2.IMREAD_COLOR)\n",
    "```\n",
    "\n",
    "Resize an image:\n",
    "```python\n",
    "img = cv2.resize(img, (X_SIZE,Y_SIZE))\n",
    "```\n",
    "\n",
    "Convert image to grayscale:\n",
    "```python\n",
    "img = cv2.cvtColor(img, cv2.COLOR_BGR2GRAY)\n",
    "```\n",
    "\n",
    "Write an image to disk:\n",
    "```python\n",
    "cv2.imwrite(\"path\", img)\n",
    "```\n",
    "\n",
    "Find circles to identify lemons:\n",
    "```python\n",
    "circles = cv2.HoughCircles(img, \n",
    "                           cv2.HOUGH_GRADIENT,\n",
    "                           dp=2, \n",
    "                           minDist=15, \n",
    "                           param1=100, \n",
    "                           param2=70)\n",
    "```"
   ]
  },
  {
   "cell_type": "markdown",
   "metadata": {},
   "source": [
    "## Imports"
   ]
  },
  {
   "cell_type": "code",
   "execution_count": 1,
   "metadata": {},
   "outputs": [],
   "source": [
    "import json\n",
    "from datetime import date\n",
    "import luigi\n",
    "from luigi.parameter import DateParameter\n",
    "from luigi import LocalTarget, Task, WrapperTask\n",
    "from luigi.tools.range import RangeDailyBase\n",
    "import cv2"
   ]
  },
  {
   "cell_type": "markdown",
   "metadata": {},
   "source": [
    "## Task 1: Check for daily data"
   ]
  },
  {
   "cell_type": "code",
   "execution_count": 2,
   "metadata": {},
   "outputs": [],
   "source": [
    "class CheckDailyData(Task):\n",
    "    date = DateParameter(default=date.today())\n",
    "\n",
    "    def output(self):\n",
    "        prefix = self.date.strftime(\"%m-%d-%Y\")\n",
    "        return LocalTarget(\"exercise-dataset/daily/%s/image.jpg\" % prefix)"
   ]
  },
  {
   "cell_type": "markdown",
   "metadata": {},
   "source": [
    "## Task 2: Preprocess input image"
   ]
  },
  {
   "cell_type": "code",
   "execution_count": 3,
   "metadata": {},
   "outputs": [],
   "source": [
    "class Preprocess(Task):\n",
    "    date = DateParameter(default=date.today())\n",
    "\n",
    "    def requires(self):\n",
    "        return CheckDailyData(self.date)\n",
    "\n",
    "    def output(self):\n",
    "        prefix = self.date.strftime(\"%m-%d-%Y\")\n",
    "        return LocalTarget(\"exercise-dataset/daily/%s/preprocessed.jpg\" % prefix)\n",
    "\n",
    "    def run(self):\n",
    "        print(self.input().path)\n",
    "        img = cv2.imread(self.input().path, cv2.IMREAD_COLOR)\n",
    "        larger = cv2.resize(img, (100,100))\n",
    "        gray = cv2.cvtColor(larger, cv2.COLOR_BGR2GRAY)\n",
    "        cv2.imwrite(self.output().path, gray)\n"
   ]
  },
  {
   "cell_type": "markdown",
   "metadata": {},
   "source": [
    "## Classify image"
   ]
  },
  {
   "cell_type": "code",
   "execution_count": 4,
   "metadata": {},
   "outputs": [],
   "source": [
    "class Classify(Task):\n",
    "    date = DateParameter(default=date.today())\n",
    "\n",
    "    def requires(self):\n",
    "        return Preprocess(self.date)\n",
    "\n",
    "    def output(self):\n",
    "        prefix = self.date.strftime(\"%m-%d-%Y\")\n",
    "        return LocalTarget(\"exercise-dataset/daily/%s/result.json\" % prefix)\n",
    "\n",
    "    def run(self):\n",
    "        img = cv2.imread(self.input().path, cv2.IMREAD_GRAYSCALE)\n",
    "        circles = cv2.HoughCircles(img, \n",
    "                                   cv2.HOUGH_GRADIENT,\n",
    "                                   dp=2, \n",
    "                                   minDist=15, \n",
    "                                   param1=100, \n",
    "                                   param2=70)\n",
    "        label = \"lemon\" if circles is not None else \"banana\"\n",
    "        with self.output().open(\"w\") as out:\n",
    "            json.dump({\"class\": label}, out)\n"
   ]
  },
  {
   "cell_type": "markdown",
   "metadata": {},
   "source": [
    "## Run the pipeline"
   ]
  },
  {
   "cell_type": "code",
   "execution_count": 5,
   "metadata": {},
   "outputs": [
    {
     "name": "stderr",
     "output_type": "stream",
     "text": [
      "DEBUG: Checking if Classify(date=2018-02-19) is complete\n",
      "INFO: Informed scheduler that task   Classify_2018_02_19_999079b9db   has status   DONE\n",
      "INFO: Done scheduling tasks\n",
      "INFO: Running Worker with 1 processes\n",
      "DEBUG: Asking scheduler for work...\n",
      "DEBUG: Done\n",
      "DEBUG: There are no more tasks to run at this time\n",
      "INFO: Worker Worker(salt=927606712, workers=1, host=05fc4da11f1d, username=root, pid=62) was stopped. Shutting down Keep-Alive thread\n",
      "INFO: \n",
      "===== Luigi Execution Summary =====\n",
      "\n",
      "Scheduled 1 tasks of which:\n",
      "* 1 complete ones were encountered:\n",
      "    - 1 Classify(date=2018-02-19)\n",
      "\n",
      "Did not run any tasks\n",
      "This progress looks :) because there were no failed tasks or missing dependencies\n",
      "\n",
      "===== Luigi Execution Summary =====\n",
      "\n"
     ]
    },
    {
     "data": {
      "text/plain": [
       "True"
      ]
     },
     "execution_count": 5,
     "metadata": {},
     "output_type": "execute_result"
    }
   ],
   "source": [
    "luigi.build([Classify(date(2018,2,19))], local_scheduler=True, no_lock=True)"
   ]
  },
  {
   "cell_type": "markdown",
   "metadata": {},
   "source": [
    "## Daily jobs and backfillings "
   ]
  },
  {
   "cell_type": "markdown",
   "metadata": {},
   "source": [
    "Now we can classify a single image that is identified by it's savedate. But Luigi comes even more handy when handling \"backfillings\". Using the *RangeDailyBase* Wrappertask we can process all 3 images with the pipeline we already built.\n",
    "\n",
    "```python\n",
    "RangeDailyBase(of=TASK, start=START_DATE, stop=END_DATE, days_back=ALLOWED_DAYS_INTO_PAST)\n",
    "```"
   ]
  },
  {
   "cell_type": "code",
   "execution_count": 18,
   "metadata": {},
   "outputs": [
    {
     "name": "stderr",
     "output_type": "stream",
     "text": [
      "DEBUG: Checking if RangeDailyBase(of=Classify, of_params={}, reverse=False, task_limit=50, now=None, param_name=None, start=2018-02-19, stop=2018-02-23, days_back=365, days_forward=0) is complete\n",
      "INFO: Informed scheduler that task   RangeDailyBase_365_0_None_0325ca2a07   has status   DONE\n",
      "INFO: Done scheduling tasks\n",
      "INFO: Running Worker with 1 processes\n",
      "DEBUG: Asking scheduler for work...\n",
      "DEBUG: Done\n",
      "DEBUG: There are no more tasks to run at this time\n",
      "INFO: Worker Worker(salt=195309940, workers=1, host=05fc4da11f1d, username=root, pid=62) was stopped. Shutting down Keep-Alive thread\n",
      "INFO: \n",
      "===== Luigi Execution Summary =====\n",
      "\n",
      "Scheduled 1 tasks of which:\n",
      "* 1 complete ones were encountered:\n",
      "    - 1 RangeDailyBase(...)\n",
      "\n",
      "Did not run any tasks\n",
      "This progress looks :) because there were no failed tasks or missing dependencies\n",
      "\n",
      "===== Luigi Execution Summary =====\n",
      "\n"
     ]
    },
    {
     "data": {
      "text/plain": [
       "True"
      ]
     },
     "execution_count": 18,
     "metadata": {},
     "output_type": "execute_result"
    }
   ],
   "source": [
    "luigi.build([RangeDailyBase(of=Classify, start=date(2018,2,19), stop=date(2018,2,23), days_back=365)], local_scheduler=True, no_lock=True)"
   ]
  }
 ],
 "metadata": {
  "kernelspec": {
   "display_name": "Python 3",
   "language": "python",
   "name": "python3"
  },
  "language_info": {
   "codemirror_mode": {
    "name": "ipython",
    "version": 3
   },
   "file_extension": ".py",
   "mimetype": "text/x-python",
   "name": "python",
   "nbconvert_exporter": "python",
   "pygments_lexer": "ipython3",
   "version": "3.6.8"
  }
 },
 "nbformat": 4,
 "nbformat_minor": 2
}
